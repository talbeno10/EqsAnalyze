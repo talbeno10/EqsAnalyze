{
 "cells": [
  {
   "cell_type": "code",
   "execution_count": 2,
   "metadata": {},
   "outputs": [],
   "source": [
    "import pandas as pd\n",
    "import sklearn\n",
    "from sklearn.linear_model import LinearRegression\n",
    "from sklearn.preprocessing import MinMaxScaler, StandardScaler, normalize\n",
    "from sklearn.model_selection import train_test_split\n",
    "from sklearn.metrics import r2_score, f1_score"
   ]
  },
  {
   "cell_type": "code",
   "execution_count": 3,
   "metadata": {},
   "outputs": [
    {
     "ename": "FileNotFoundError",
     "evalue": "[Errno 2] File EDA\\df.csv does not exist: 'EDA\\\\df.csv'",
     "output_type": "error",
     "traceback": [
      ""
     ]
    }
   ],
   "source": [
    "#### Linear Regression by Lat & Long\n",
    "\n",
    "df = pd.read_csv('EDA\\df.csv')\n",
    "X = df[df.columns[(df.columns != 'Date') & (df.columns != 'Time') & (df.columns != 'Magnitude')]]\n",
    "y = df['Magnitude']\n",
    "print(X)\n",
    "X_train, X_test, y_train, y_test = train_test_split(X, y, test_size=0.35, random_state=40)\n",
    "model = sklearn.linear_model.LinearRegression().fit(X_train, y_train)\n",
    "\n",
    "lat = float(input(\"Please enter Lat value: \"))\n",
    "long = float(input(\"Please enter Long value: \"))\n",
    "while (-90 <=lat <= 90 and -180 <= long <= 180):\n",
    "    print('Closest magnitude prediction : {:.1f}'.format(model.predict([[lat, long]])[0]))\n",
    "    lat = float(input(\"Please enter Lat value: \"))\n",
    "    long = float(input(\"Please enter Long value: \"))\n",
    "print('Input is out of range!')"
   ]
  },
  {
   "cell_type": "code",
   "execution_count": 10,
   "metadata": {},
   "outputs": [
    {
     "ename": "KeyboardInterrupt",
     "evalue": "Interrupted by user",
     "output_type": "error",
     "traceback": [
      ""
     ]
    }
   ],
   "source": [
    "#### Logistic Regression by Mag split (low, med, high)\n",
    "\n",
    "df = pd.read_csv('EDA\\df.csv')\n",
    "df_over_7 = df[df['Magnitude']>=7].reset_index(drop=True)\n",
    "df_5_to_7 = df[(df['Magnitude']>=5) & (df['Magnitude']<7)].reset_index(drop=True)\n",
    "df_3_to_5 = df[(df['Magnitude']>=3) & (df['Magnitude']<5)].reset_index(drop=True)\n",
    "df_over_7['Mag'] = 2\n",
    "df_5_to_7['Mag'] = 1\n",
    "df_3_to_5['Mag'] = 0\n",
    "df = pd.concat([df_over_7, df_5_to_7,df_3_to_5], ignore_index=True).drop(['Magnitude'], axis=1)\n",
    "X = df[df.columns[(df.columns != 'Date') & (df.columns != 'Time') & (df.columns != 'Mag')]]\n",
    "y = df['Mag']\n",
    "X_train, X_test, y_train, y_test = train_test_split(X, y, test_size=0.33, random_state=40)\n",
    "scaler = MinMaxScaler(feature_range=(-1,1))\n",
    "X_train_scaled = scaler.fit_transform(X_train)\n",
    "model = sklearn.linear_model.LogisticRegression().fit(X_train_scaled, y_train)\n",
    "\n",
    "\n",
    "scaler.fit(X_test)\n",
    "lat = float(input(\"Please enter Lat value: \"))\n",
    "long = float(input(\"Please enter Long value: \"))\n",
    "cords = scaler.transform([[lat, long]])\n",
    "predicted_vals = model.predict_proba(cords)[0]\n",
    "while (-90 <=lat <= 90 and -180 <= long <= 180):\n",
    "    lowP, medP, highP = predicted_vals[0]*100, predicted_vals[1]*100, predicted_vals[2]*100\n",
    "    print('Cords ({}, {}):\\tLow magnitude probability: {:.2f}%\\n\\t\\t\\tMedium magnitude probability: {:.2f}%\\n\\t\\t\\tHigh magnitude probability: {:.2f}%\\n'.format(lat, long, lowP, medP, highP))\n",
    "    lat = float(input(\"Please enter Lat value: \"))\n",
    "    long = float(input(\"Please enter Long value: \"))\n",
    "    cords = scaler.transform([[lat,long]])\n",
    "    predicted_vals = model.predict_proba(cords)[0]\n",
    "print('Input is out of range!')"
   ]
  },
  {
   "cell_type": "code",
   "execution_count": null,
   "metadata": {},
   "outputs": [],
   "source": []
  }
 ],
 "metadata": {
  "kernelspec": {
   "display_name": "Python 3",
   "language": "python",
   "name": "python3"
  },
  "language_info": {
   "codemirror_mode": {
    "name": "ipython",
    "version": 3
   },
   "file_extension": ".py",
   "mimetype": "text/x-python",
   "name": "python",
   "nbconvert_exporter": "python",
   "pygments_lexer": "ipython3",
   "version": "3.8.3"
  }
 },
 "nbformat": 4,
 "nbformat_minor": 4
}
